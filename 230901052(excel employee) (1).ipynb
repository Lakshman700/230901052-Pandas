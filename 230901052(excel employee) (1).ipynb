{
 "cells": [
  {
   "cell_type": "code",
   "execution_count": 8,
   "id": "2ee223ef-9b54-4799-adae-9c67a8b93949",
   "metadata": {},
   "outputs": [
    {
     "name": "stdout",
     "output_type": "stream",
     "text": [
      "   S.NO FIRST NAME GENDER  LOGIN TIME   SALARY BONUS(%) TEAM\n",
      "0     1        MON      M           11   25000      10%    A\n",
      "1     2        TUE      M           11   30000      20%    B\n",
      "2     3        WED      F           12   30000      12%    C\n",
      "3     4        THU      F           11   73000      12%    B\n",
      "4     5        FRI      M            1   69000      15%    C\n",
      "5     6        SAT      M            9   68000      20%    A\n",
      "6     7        SUN      F            9   67000      25%    A\n",
      "7     8        KUN      F            9   66000      30%    C\n",
      "8     9        PIN      M           10   45000      20%    B\n",
      "9    10        TUN      M           10  100000       5%    C\n"
     ]
    }
   ],
   "source": [
    "import pandas as pd\n",
    "d=pd.read_csv(\"/Users/student/Downloads/employee230901052.csv\")\n",
    "print(d)"
   ]
  },
  {
   "cell_type": "code",
   "execution_count": 10,
   "id": "855dc0d4-6f95-47c2-af64-821f30a2e195",
   "metadata": {},
   "outputs": [
    {
     "name": "stdout",
     "output_type": "stream",
     "text": [
      "Columns Index(['S.NO', 'FIRST NAME', 'GENDER', 'LOGIN TIME ', 'SALARY', 'BONUS(%)',\n",
      "       'TEAM'],\n",
      "      dtype='object')\n",
      "(10, 7)\n"
     ]
    }
   ],
   "source": [
    "df=pd.DataFrame(d)\n",
    "print(\"Columns\",df.columns)\n",
    "print(df.shape)"
   ]
  },
  {
   "cell_type": "code",
   "execution_count": 16,
   "id": "4e1f76ce-60d6-46e8-8107-6b3313315e95",
   "metadata": {},
   "outputs": [
    {
     "name": "stdout",
     "output_type": "stream",
     "text": [
      "TEAM 0    A\n",
      "1    B\n",
      "2    C\n",
      "3    B\n",
      "4    C\n",
      "5    A\n",
      "6    A\n",
      "7    C\n",
      "8    B\n",
      "9    C\n",
      "Name: TEAM, dtype: object\n"
     ]
    }
   ],
   "source": [
    "print(\"TEAM\",df['TEAM'])"
   ]
  },
  {
   "cell_type": "code",
   "execution_count": 24,
   "id": "c39140f3-1d45-4a56-b3f6-1eef49b52cba",
   "metadata": {},
   "outputs": [
    {
     "name": "stdout",
     "output_type": "stream",
     "text": [
      "   S.NO FIRST NAME GENDER  LOGIN TIME   SALARY BONUS(%) TEAM\n",
      "5     6        SAT      M            9   68000      20%    A\n",
      "6     7        SUN      F            9   67000      25%    A\n",
      "7     8        KUN      F            9   66000      30%    C\n",
      "8     9        PIN      M           10   45000      20%    B\n",
      "9    10        TUN      M           10  100000       5%    C\n"
     ]
    }
   ],
   "source": [
    "print(df[5:10])\n"
   ]
  },
  {
   "cell_type": "code",
   "execution_count": 26,
   "id": "01c476f1-6a87-43aa-b341-0d2e178de611",
   "metadata": {},
   "outputs": [
    {
     "name": "stdout",
     "output_type": "stream",
     "text": [
      "Particular Person details S.NO               3\n",
      "FIRST NAME       WED\n",
      "GENDER             F\n",
      "LOGIN TIME        12\n",
      "SALARY         30000\n",
      "BONUS(%)         12%\n",
      "TEAM               C\n",
      "Name: 2, dtype: object\n"
     ]
    }
   ],
   "source": [
    "print(\"Particular Person details\",df.loc[2])"
   ]
  },
  {
   "cell_type": "code",
   "execution_count": 30,
   "id": "427d3727-87cd-44a5-a749-96d5570e40cf",
   "metadata": {},
   "outputs": [
    {
     "name": "stdout",
     "output_type": "stream",
     "text": [
      "   S.NO FIRST NAME GENDER  LOGIN TIME   SALARY BONUS(%) TEAM\n",
      "5     6        SAT      M            9   68000      20%    A\n"
     ]
    }
   ],
   "source": [
    "print(d.loc[d['SALARY']==68000])"
   ]
  },
  {
   "cell_type": "code",
   "execution_count": 32,
   "id": "488025e0-ff2a-4b48-a970-c467a09ec679",
   "metadata": {},
   "outputs": [
    {
     "name": "stdout",
     "output_type": "stream",
     "text": [
      "0    0.362319\n",
      "1    0.434783\n",
      "2    0.434783\n",
      "3    1.057971\n",
      "4    1.000000\n",
      "5    0.985507\n",
      "6    0.971014\n",
      "7    0.956522\n",
      "8    0.652174\n",
      "9    1.449275\n",
      "Name: SALARY, dtype: float64\n"
     ]
    }
   ],
   "source": [
    "df=d[\"SALARY\"]/\n",
    "print(df)"
   ]
  },
  {
   "cell_type": "code",
   "execution_count": null,
   "id": "2e5477e7-f815-4d4d-b003-4d2226486170",
   "metadata": {},
   "outputs": [],
   "source": []
  }
 ],
 "metadata": {
  "kernelspec": {
   "display_name": "Python 3 (ipykernel)",
   "language": "python",
   "name": "python3"
  },
  "language_info": {
   "codemirror_mode": {
    "name": "ipython",
    "version": 3
   },
   "file_extension": ".py",
   "mimetype": "text/x-python",
   "name": "python",
   "nbconvert_exporter": "python",
   "pygments_lexer": "ipython3",
   "version": "3.12.7"
  }
 },
 "nbformat": 4,
 "nbformat_minor": 5
}
