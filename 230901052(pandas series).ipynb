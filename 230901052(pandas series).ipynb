{
 "cells": [
  {
   "cell_type": "code",
   "execution_count": 26,
   "id": "2db46fa6-e048-4535-bd35-701c7a03036e",
   "metadata": {},
   "outputs": [
    {
     "name": "stdout",
     "output_type": "stream",
     "text": [
      "0    l\n",
      "1    a\n",
      "2    k\n",
      "3    s\n",
      "4    h\n",
      "5    m\n",
      "6    a\n",
      "7    n\n",
      "dtype: object\n"
     ]
    }
   ],
   "source": [
    "import pandas as pd\n",
    "import numpy as np\n",
    "arr=np.array(['l','a','k','s','h','m','a','n'])\n",
    "a=pd.Series(arr)\n",
    "print(a)"
   ]
  },
  {
   "cell_type": "code",
   "execution_count": 10,
   "id": "7449e626-4f50-402d-a9b5-028d8f4dc61f",
   "metadata": {},
   "outputs": [
    {
     "name": "stdout",
     "output_type": "stream",
     "text": [
      "a    0\n",
      "b    1\n",
      "c    2\n",
      "dtype: int64\n"
     ]
    }
   ],
   "source": [
    "#series of data from dictionary:\n",
    "import pandas as pd\n",
    "arr={'a':0,'b':1,'c':2}\n",
    "a=pd.Series(arr)\n",
    "print(a)"
   ]
  },
  {
   "cell_type": "code",
   "execution_count": 16,
   "id": "c0889844-1d85-4d6d-ac88-2c99bc8c3c38",
   "metadata": {},
   "outputs": [
    {
     "name": "stdout",
     "output_type": "stream",
     "text": [
      "0    4\n",
      "1    4\n",
      "2    4\n",
      "3    4\n",
      "dtype: int64\n"
     ]
    }
   ],
   "source": [
    "scalar=pd.Series(4,index=[0,1,2,3])\n",
    "print(scalar)"
   ]
  },
  {
   "cell_type": "code",
   "execution_count": 28,
   "id": "a48660ad-04c6-4d5b-b731-d9a96c98d4dd",
   "metadata": {},
   "outputs": [
    {
     "name": "stdout",
     "output_type": "stream",
     "text": [
      "\n",
      " Series:\n",
      " 0    l\n",
      "1    a\n",
      "2    k\n",
      "3    s\n",
      "4    h\n",
      "5    m\n",
      "6    a\n",
      "7    n\n",
      "dtype: object\n",
      "\n",
      " Index:\n",
      " RangeIndex(start=0, stop=8, step=1)\n",
      "\n",
      " Shape:\n",
      " (8,)\n",
      "\n",
      " Dimension:\n",
      " 1\n",
      "\n",
      " Size:\n",
      " 8\n"
     ]
    }
   ],
   "source": [
    "print(\"\\n Series:\\n\",a)\n",
    "print(\"\\n Index:\\n\",a.index)\n",
    "print(\"\\n Shape:\\n\",a.shape)\n",
    "print(\"\\n Dimension:\\n\",a.ndim)\n",
    "print(\"\\n Size:\\n\",a.size)"
   ]
  },
  {
   "cell_type": "code",
   "execution_count": null,
   "id": "ffd8d148-e4cb-4583-8146-b3ff9acda16e",
   "metadata": {},
   "outputs": [],
   "source": []
  }
 ],
 "metadata": {
  "kernelspec": {
   "display_name": "Python 3 (ipykernel)",
   "language": "python",
   "name": "python3"
  },
  "language_info": {
   "codemirror_mode": {
    "name": "ipython",
    "version": 3
   },
   "file_extension": ".py",
   "mimetype": "text/x-python",
   "name": "python",
   "nbconvert_exporter": "python",
   "pygments_lexer": "ipython3",
   "version": "3.12.7"
  }
 },
 "nbformat": 4,
 "nbformat_minor": 5
}
