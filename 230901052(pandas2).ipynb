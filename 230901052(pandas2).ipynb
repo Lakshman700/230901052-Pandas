{
 "cells": [
  {
   "cell_type": "code",
   "execution_count": null,
   "id": "d96af31a-8fae-41de-ab28-0469a147fee6",
   "metadata": {},
   "outputs": [],
   "source": []
  },
  {
   "cell_type": "code",
   "execution_count": 16,
   "id": "d999fbc3-ffef-4dfe-a6e4-8c6ec3d01dd1",
   "metadata": {},
   "outputs": [
    {
     "name": "stdout",
     "output_type": "stream",
     "text": [
      "\n",
      " Original DataFrame :\n",
      "    S  R\n",
      "0  3  9\n",
      "1  3  9\n",
      "2  3  9\n",
      "3  3  9\n",
      "\n",
      " square root:\n",
      "           S    R\n",
      "0  1.732051  3.0\n",
      "1  1.732051  3.0\n",
      "2  1.732051  3.0\n",
      "3  1.732051  3.0\n",
      "\n",
      " sum of each column:\n",
      " S    12\n",
      "R    36\n",
      "dtype: int64\n",
      "\n",
      " sum of each rows:\n",
      " 0    12\n",
      "1    12\n",
      "2    12\n",
      "3    12\n",
      "dtype: int64\n"
     ]
    }
   ],
   "source": [
    "#operation on dataframe\n",
    "import pandas as pd\n",
    "import numpy as np\n",
    "info=pd.DataFrame([[3,9]]*4,columns=['S','R'])\n",
    "print(\"\\n Original DataFrame :\\n\",info)\n",
    "print(\"\\n square root:\\n\",info.apply(np.sqrt))\n",
    "print(\"\\n sum of each column:\\n\",info.apply(np.sum,axis=0))\n",
    "print(\"\\n sum of each rows:\\n\",info.apply(np.sum,axis=1))"
   ]
  },
  {
   "cell_type": "code",
   "execution_count": null,
   "id": "0089ef47-cc69-43ec-b42d-a9b3d27896e9",
   "metadata": {},
   "outputs": [],
   "source": []
  },
  {
   "cell_type": "code",
   "execution_count": 20,
   "id": "3c04b523-bf70-442b-a98f-355922c2704a",
   "metadata": {},
   "outputs": [
    {
     "name": "stdout",
     "output_type": "stream",
     "text": [
      "   X  Y  Z\n",
      "0  2  4  6\n",
      "1  1  3  5\n",
      "2  5  8  7\n",
      "     X  Y  Z\n",
      "min  1  3  5\n",
      "max  5  8  7\n"
     ]
    }
   ],
   "source": [
    "#comparison\n",
    "import pandas as pd\n",
    "#import numpy as np\n",
    "info=pd.DataFrame([[2,4,6],[1,3,5],[5,8,7]],columns=['X','Y','Z'])\n",
    "print(info)\n",
    "print(info.agg(['min','max']))"
   ]
  },
  {
   "cell_type": "code",
   "execution_count": 24,
   "id": "534e8561-c59f-47a9-9727-4ac5a155faf0",
   "metadata": {},
   "outputs": [
    {
     "name": "stdout",
     "output_type": "stream",
     "text": [
      "  EmpName  ID\n",
      "0     Sai  88\n",
      "1     Vai  70\n",
      "\n",
      "Adding new column : \n",
      "   EmpName  ID  Age\n",
      "0     Sai  88   20\n",
      "1     Vai  70   18\n",
      "\n",
      "Adding new column : \n",
      "   EmpName  ID  Age     Sex\n",
      "0     Sai  88   20    Male\n",
      "1     Vai  70   18  Female\n"
     ]
    }
   ],
   "source": [
    "import pandas as pd\n",
    "import numpy as np\n",
    "d2=pd.DataFrame([['Sai',88],['Vai',70]],columns=[\"EmpName\",\"ID\"])\n",
    "print(d2)\n",
    "d2['Age']=[20,18]\n",
    "print(\"\\nAdding new column : \\n\",d2)\n",
    "d2['Sex']=['Male','Female']\n",
    "print(\"\\nAdding new column : \\n\",d2)\n"
   ]
  },
  {
   "cell_type": "code",
   "execution_count": 26,
   "id": "e938d8ef-896d-4f13-893a-b07e568fe7f7",
   "metadata": {},
   "outputs": [
    {
     "name": "stdout",
     "output_type": "stream",
     "text": [
      "  EmpName  ID\n",
      "0     Sai  88\n",
      "1     Vai  70\n",
      "Adding a new column : \n",
      "   EmpName  ID  Age\n",
      "0     Sai  88   20\n",
      "1     Vai  70   18\n"
     ]
    }
   ],
   "source": [
    "import pandas as pd\n",
    "import numpy as np\n",
    "d2=pd.DataFrame([['Sai',88],['Vai',70]],columns=[\"EmpName\",\"ID\"])\n",
    "print(d2)\n",
    "a=d2.assign(Age=[20,18])\n",
    "print(\"Adding a new column : \\n\",a)"
   ]
  },
  {
   "cell_type": "code",
   "execution_count": 28,
   "id": "d7310bbf-5190-4f51-ae90-d8454713e33f",
   "metadata": {},
   "outputs": [
    {
     "name": "stdout",
     "output_type": "stream",
     "text": [
      "       col1      col2\n",
      "3  1.022068 -0.203843\n",
      "2 -1.601651 -0.859616\n",
      "0 -0.727911  0.223569\n",
      "4  0.320734  0.248706\n",
      "1  0.817639 -0.555671\n",
      "       col1      col2\n",
      "0 -0.727911  0.223569\n",
      "1  0.817639 -0.555671\n",
      "2 -1.601651 -0.859616\n",
      "3  1.022068 -0.203843\n",
      "4  0.320734  0.248706\n",
      "       col1      col2\n",
      "2 -1.601651 -0.859616\n",
      "1  0.817639 -0.555671\n",
      "3  1.022068 -0.203843\n",
      "0 -0.727911  0.223569\n",
      "4  0.320734  0.248706\n",
      "       col1      col2\n",
      "2 -1.601651 -0.859616\n",
      "0 -0.727911  0.223569\n",
      "4  0.320734  0.248706\n",
      "1  0.817639 -0.555671\n",
      "3  1.022068 -0.203843\n"
     ]
    }
   ],
   "source": [
    "import pandas as pd\n",
    "import numpy as np\n",
    "info=pd.DataFrame(np.random.randn(5,2),index=[3,2,0,4,1],columns=['col1','col2'])\n",
    "print(info)\n",
    "info2=info.sort_index()\n",
    "print(info2)\n",
    "info3=info.sort_values(by='col2')\n",
    "print(info3)\n",
    "info4=info.sort_values(by='col1')\n",
    "print(info4)"
   ]
  },
  {
   "cell_type": "code",
   "execution_count": 30,
   "id": "9ce38561-9ae9-461a-a3ac-ce0dc0432441",
   "metadata": {},
   "outputs": [
    {
     "name": "stdout",
     "output_type": "stream",
     "text": [
      "   id  Name   Sub\n",
      "0   1   Sai  Sub1\n",
      "1   2   Poo  Sub2\n",
      "2   3  Saba  Sub4\n",
      "3   4  Yuvi  Sub3 \n",
      "\n",
      "   id    Name   Sub\n",
      "0   1  Sanjay  Sub2\n",
      "1   2   Saran  Sub4\n",
      "2   3     Sam  Sub3\n",
      "3   4    Ruba  Sub5 \n",
      "\n",
      "   id Name_x Sub_x  Name_y Sub_y\n",
      "0   1    Sai  Sub1  Sanjay  Sub2\n",
      "1   2    Poo  Sub2   Saran  Sub4\n",
      "2   3   Saba  Sub4     Sam  Sub3\n",
      "3   4   Yuvi  Sub3    Ruba  Sub5\n"
     ]
    }
   ],
   "source": [
    "import pandas as pd\n",
    "import numpy as np\n",
    "left=pd.DataFrame({'id':[1,2,3,4],'Name':['Sai','Poo','Saba','Yuvi'],'Sub':['Sub1','Sub2','Sub4','Sub3']})\n",
    "right=pd.DataFrame({'id':[1,2,3,4],'Name':['Sanjay','Saran','Sam','Ruba'],'Sub':['Sub2','Sub4','Sub3','Sub5']})\n",
    "print(left,'\\n')\n",
    "print(right,'\\n')\n",
    "print(pd.merge(left,right,on=\"id\"))"
   ]
  },
  {
   "cell_type": "code",
   "execution_count": null,
   "id": "b4415cfa-b891-4da6-b877-71c6eff68527",
   "metadata": {},
   "outputs": [],
   "source": []
  }
 ],
 "metadata": {
  "kernelspec": {
   "display_name": "Python 3 (ipykernel)",
   "language": "python",
   "name": "python3"
  },
  "language_info": {
   "codemirror_mode": {
    "name": "ipython",
    "version": 3
   },
   "file_extension": ".py",
   "mimetype": "text/x-python",
   "name": "python",
   "nbconvert_exporter": "python",
   "pygments_lexer": "ipython3",
   "version": "3.12.7"
  }
 },
 "nbformat": 4,
 "nbformat_minor": 5
}
